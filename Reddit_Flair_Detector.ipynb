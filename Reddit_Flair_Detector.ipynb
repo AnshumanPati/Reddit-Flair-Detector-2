{
  "nbformat": 4,
  "nbformat_minor": 0,
  "metadata": {
    "colab": {
      "name": "Reddit Flair Detector.ipynb",
      "version": "0.3.2",
      "provenance": [],
      "include_colab_link": true
    },
    "kernelspec": {
      "name": "python3",
      "display_name": "Python 3"
    }
  },
  "cells": [
    {
      "cell_type": "markdown",
      "metadata": {
        "id": "view-in-github",
        "colab_type": "text"
      },
      "source": [
        "<a href=\"https://colab.research.google.com/github/radonys/Reddit-Flair-Detector/blob/master/Reddit_Flair_Detector.ipynb\" target=\"_parent\"><img src=\"https://colab.research.google.com/assets/colab-badge.svg\" alt=\"Open In Colab\"/></a>"
      ]
    },
    {
      "metadata": {
        "id": "CTIVuFgiuoAn",
        "colab_type": "text"
      },
      "cell_type": "markdown",
      "source": [
        "## Reddit Flair Detector\n",
        "\n",
        "A Reddit Flair Detector using Machine Learning Algorithms"
      ]
    },
    {
      "metadata": {
        "id": "ByC5RpkXvVNY",
        "colab_type": "text"
      },
      "cell_type": "markdown",
      "source": [
        "### Install Required Modules"
      ]
    },
    {
      "metadata": {
        "id": "LZVX18CvvTUI",
        "colab_type": "code",
        "colab": {}
      },
      "cell_type": "code",
      "source": [
        "!pip install praw pandas numpy scikit-learn matplotlib scipy"
      ],
      "execution_count": 0,
      "outputs": []
    },
    {
      "metadata": {
        "id": "WQ5D5ZVHxuCW",
        "colab_type": "text"
      },
      "cell_type": "markdown",
      "source": [
        "### Import Modules"
      ]
    },
    {
      "metadata": {
        "id": "n2Zx5yYjxxwg",
        "colab_type": "code",
        "colab": {}
      },
      "cell_type": "code",
      "source": [
        "import praw\n",
        "import pandas as pd\n",
        "import datetime as dt"
      ],
      "execution_count": 0,
      "outputs": []
    },
    {
      "metadata": {
        "id": "Wi9NhpmXyxd7",
        "colab_type": "text"
      },
      "cell_type": "markdown",
      "source": [
        "### Getting Reddit Data\n",
        "\n",
        "Using PRAW module"
      ]
    },
    {
      "metadata": {
        "id": "juhA_Mxiy59Z",
        "colab_type": "code",
        "colab": {}
      },
      "cell_type": "code",
      "source": [
        "reddit = praw.Reddit(client_id='_4Z0SOGEI31a3Q', client_secret='fzhJE6_cjPqLN6goG4R7cJ6SK3Q', user_agent='reddit-flair-detector', username='radonys', password='Yash@1234')\n",
        "\n",
        "subreddit = reddit.subreddit('india')\n",
        "flairs = [\"AskIndia\", \"Non-Political\", \"[R]eddiquette\", \"Scheduled\", \"Photography\", \"Science/Technology\", \"Politics\", \"Business/Finance\", \"Policy/Economy\", \"Sports\", \"Food\"]"
      ],
      "execution_count": 0,
      "outputs": []
    }
  ]
}