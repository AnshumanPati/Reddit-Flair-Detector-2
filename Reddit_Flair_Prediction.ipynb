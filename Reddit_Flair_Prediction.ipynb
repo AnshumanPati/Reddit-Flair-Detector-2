{
  "nbformat": 4,
  "nbformat_minor": 0,
  "metadata": {
    "colab": {
      "name": "Reddit Flair Prediction.ipynb",
      "version": "0.3.2",
      "provenance": [],
      "collapsed_sections": [
        "l42QdwaLVbkS"
      ],
      "include_colab_link": true
    },
    "kernelspec": {
      "name": "python3",
      "display_name": "Python 3"
    }
  },
  "cells": [
    {
      "cell_type": "markdown",
      "metadata": {
        "id": "view-in-github",
        "colab_type": "text"
      },
      "source": [
        "<a href=\"https://colab.research.google.com/github/radonys/Reddit-Flair-Detector/blob/master/Reddit_Flair_Prediction.ipynb\" target=\"_parent\"><img src=\"https://colab.research.google.com/assets/colab-badge.svg\" alt=\"Open In Colab\"/></a>"
      ]
    },
    {
      "metadata": {
        "id": "NdcoWfTPVQ_p",
        "colab_type": "text"
      },
      "cell_type": "markdown",
      "source": [
        "## Reddit India Flair Prediction"
      ]
    },
    {
      "metadata": {
        "id": "l42QdwaLVbkS",
        "colab_type": "text"
      },
      "cell_type": "markdown",
      "source": [
        "### Install and Import Required Modules"
      ]
    },
    {
      "metadata": {
        "id": "NvFwnXvsPC50",
        "colab_type": "code",
        "colab": {}
      },
      "cell_type": "code",
      "source": [
        "!pip install scikit-learn praw nltk"
      ],
      "execution_count": 0,
      "outputs": []
    },
    {
      "metadata": {
        "id": "Zg9Z_mtpOyvh",
        "colab_type": "code",
        "colab": {}
      },
      "cell_type": "code",
      "source": [
        "import sklearn\n",
        "import pickle\n",
        "import praw\n",
        "import re\n",
        "from bs4 import BeautifulSoup\n",
        "import nltk\n",
        "nltk.download('all')\n",
        "from nltk.corpus import stopwords"
      ],
      "execution_count": 0,
      "outputs": []
    },
    {
      "metadata": {
        "id": "itBLpuh0ViYS",
        "colab_type": "text"
      },
      "cell_type": "markdown",
      "source": [
        "### Variable Declarations and Utility Functions"
      ]
    },
    {
      "metadata": {
        "id": "KEwf8c5JR5b3",
        "colab_type": "code",
        "colab": {}
      },
      "cell_type": "code",
      "source": [
        "reddit = praw.Reddit(client_id='_4Z0SOGEI31a3Q', client_secret='fzhJE6_cjPqLN6goG4R7cJ6SK3Q', user_agent='reddit-flair-detector', username='radonys', password='Yash@1234')\n",
        "loaded_model = pickle.load(open('finalized_model.sav', 'rb'))\n",
        "\n",
        "REPLACE_BY_SPACE_RE = re.compile('[/(){}\\[\\]\\|@,;]')\n",
        "BAD_SYMBOLS_RE = re.compile('[^0-9a-z #+_]')\n",
        "STOPWORDS = set(stopwords.words('english'))\n",
        "\n",
        "def clean_text(text):\n",
        "   \n",
        "    text = BeautifulSoup(text, \"lxml\").text\n",
        "    text = text.lower()\n",
        "    text = REPLACE_BY_SPACE_RE.sub(' ', text)\n",
        "    text = BAD_SYMBOLS_RE.sub('', text)\n",
        "    text = ' '.join(word for word in text.split() if word not in STOPWORDS)\n",
        "    return text"
      ],
      "execution_count": 0,
      "outputs": []
    },
    {
      "metadata": {
        "id": "ZuegW2DYV7se",
        "colab_type": "text"
      },
      "cell_type": "markdown",
      "source": [
        "### Detect Reddit India Post Flair"
      ]
    },
    {
      "metadata": {
        "id": "ztbml4HTPInb",
        "colab_type": "code",
        "colab": {}
      },
      "cell_type": "code",
      "source": [
        "def detect_flair(id):\n",
        "\n",
        "  submission = reddit.submission(id=id)\n",
        "\n",
        "  data = {}\n",
        "\n",
        "  data['title'] = submission.title\n",
        "  data['url'] = submission.url\n",
        "\n",
        "  submission.comments.replace_more(limit=None)\n",
        "  comment = ''\n",
        "  for top_level_comment in submission.comments:\n",
        "    comment = comment + ' ' + top_level_comment.body\n",
        "  data[\"comment\"] = comment\n",
        "  data['title'] = clean_text(data['title'])\n",
        "  data['comment'] = clean_text(data['comment'])\n",
        "  data['combine'] = data['title'] + data['comment'] + data['url']\n",
        "  \n",
        "  return loaded_model.predict([data['combine']])"
      ],
      "execution_count": 0,
      "outputs": []
    },
    {
      "metadata": {
        "id": "XpodUqMhWAcd",
        "colab_type": "text"
      },
      "cell_type": "markdown",
      "source": [
        "### Test"
      ]
    },
    {
      "metadata": {
        "id": "jEH13RsGWEH0",
        "colab_type": "code",
        "colab": {}
      },
      "cell_type": "code",
      "source": [
        "subreddit = reddit.subreddit('india')\n",
        "\n",
        "for submission in subreddit.top(limit=10):\n",
        "    print(detect_flair(submission.id), submission.permalink)"
      ],
      "execution_count": 0,
      "outputs": []
    }
  ]
}