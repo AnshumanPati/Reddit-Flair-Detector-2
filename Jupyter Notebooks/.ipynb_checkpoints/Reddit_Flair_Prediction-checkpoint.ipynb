{
 "cells": [
  {
   "cell_type": "markdown",
   "metadata": {
    "colab_type": "text",
    "id": "view-in-github"
   },
   "source": [
    "<a href=\"https://colab.research.google.com/github/radonys/Reddit-Flair-Detector/blob/master/Reddit_Flair_Prediction.ipynb\" target=\"_parent\"><img src=\"https://colab.research.google.com/assets/colab-badge.svg\" alt=\"Open In Colab\"/></a>"
   ]
  },
  {
   "cell_type": "markdown",
   "metadata": {
    "colab_type": "text",
    "id": "NdcoWfTPVQ_p"
   },
   "source": [
    "## Reddit India Flair Prediction"
   ]
  },
  {
   "cell_type": "markdown",
   "metadata": {
    "colab_type": "text",
    "id": "l42QdwaLVbkS"
   },
   "source": [
    "### Install and Import Required Modules"
   ]
  },
  {
   "cell_type": "code",
   "execution_count": 0,
   "metadata": {
    "colab": {},
    "colab_type": "code",
    "id": "NvFwnXvsPC50"
   },
   "outputs": [],
   "source": [
    "!pip install scikit-learn praw nltk"
   ]
  },
  {
   "cell_type": "code",
   "execution_count": 0,
   "metadata": {
    "colab": {},
    "colab_type": "code",
    "id": "Zg9Z_mtpOyvh"
   },
   "outputs": [],
   "source": [
    "import sklearn\n",
    "import pickle\n",
    "import praw\n",
    "import re\n",
    "from bs4 import BeautifulSoup\n",
    "import nltk\n",
    "nltk.download('all')\n",
    "from nltk.corpus import stopwords"
   ]
  },
  {
   "cell_type": "markdown",
   "metadata": {
    "colab_type": "text",
    "id": "itBLpuh0ViYS"
   },
   "source": [
    "### Variable Declarations and Utility Functions"
   ]
  },
  {
   "cell_type": "code",
   "execution_count": 0,
   "metadata": {
    "colab": {},
    "colab_type": "code",
    "id": "KEwf8c5JR5b3"
   },
   "outputs": [],
   "source": [
    "reddit = praw.Reddit(client_id='_4Z0SOGEI31a3Q', client_secret='fzhJE6_cjPqLN6goG4R7cJ6SK3Q', user_agent='reddit-flair-detector', username='radonys', password='reddit_india')\n",
    "loaded_model = pickle.load(open('finalized_model.sav', 'rb'))\n",
    "\n",
    "REPLACE_BY_SPACE_RE = re.compile('[/(){}\\[\\]\\|@,;]')\n",
    "BAD_SYMBOLS_RE = re.compile('[^0-9a-z #+_]')\n",
    "STOPWORDS = set(stopwords.words('english'))\n",
    "\n",
    "def clean_text(text):\n",
    "   \n",
    "    text = BeautifulSoup(text, \"lxml\").text\n",
    "    text = text.lower()\n",
    "    text = REPLACE_BY_SPACE_RE.sub(' ', text)\n",
    "    text = BAD_SYMBOLS_RE.sub('', text)\n",
    "    text = ' '.join(word for word in text.split() if word not in STOPWORDS)\n",
    "    return text"
   ]
  },
  {
   "cell_type": "markdown",
   "metadata": {
    "colab_type": "text",
    "id": "ZuegW2DYV7se"
   },
   "source": [
    "### Detect Reddit India Post Flair"
   ]
  },
  {
   "cell_type": "code",
   "execution_count": 0,
   "metadata": {
    "colab": {},
    "colab_type": "code",
    "id": "ztbml4HTPInb"
   },
   "outputs": [],
   "source": [
    "def detect_flair(id):\n",
    "\n",
    "  submission = reddit.submission(id=id)\n",
    "\n",
    "  data = {}\n",
    "\n",
    "  data['title'] = submission.title\n",
    "  data['url'] = submission.url\n",
    "\n",
    "  submission.comments.replace_more(limit=None)\n",
    "  comment = ''\n",
    "  for top_level_comment in submission.comments:\n",
    "    comment = comment + ' ' + top_level_comment.body\n",
    "  data[\"comment\"] = comment\n",
    "  data['title'] = clean_text(data['title'])\n",
    "  data['comment'] = clean_text(data['comment'])\n",
    "  data['combine'] = data['title'] + data['comment'] + data['url']\n",
    "  \n",
    "  return loaded_model.predict([data['combine']])"
   ]
  },
  {
   "cell_type": "markdown",
   "metadata": {
    "colab_type": "text",
    "id": "XpodUqMhWAcd"
   },
   "source": [
    "### Test"
   ]
  },
  {
   "cell_type": "code",
   "execution_count": 0,
   "metadata": {
    "colab": {},
    "colab_type": "code",
    "id": "jEH13RsGWEH0"
   },
   "outputs": [],
   "source": [
    "subreddit = reddit.subreddit('india')\n",
    "\n",
    "for submission in subreddit.top(limit=10):\n",
    "    print(detect_flair(submission.id), submission.permalink)"
   ]
  }
 ],
 "metadata": {
  "colab": {
   "collapsed_sections": [
    "l42QdwaLVbkS"
   ],
   "include_colab_link": true,
   "name": "Reddit Flair Prediction.ipynb",
   "provenance": [],
   "version": "0.3.2"
  },
  "kernelspec": {
   "display_name": "Python 3",
   "language": "python",
   "name": "python3"
  },
  "language_info": {
   "codemirror_mode": {
    "name": "ipython",
    "version": 3
   },
   "file_extension": ".py",
   "mimetype": "text/x-python",
   "name": "python",
   "nbconvert_exporter": "python",
   "pygments_lexer": "ipython3",
   "version": "3.7.2"
  }
 },
 "nbformat": 4,
 "nbformat_minor": 1
}
