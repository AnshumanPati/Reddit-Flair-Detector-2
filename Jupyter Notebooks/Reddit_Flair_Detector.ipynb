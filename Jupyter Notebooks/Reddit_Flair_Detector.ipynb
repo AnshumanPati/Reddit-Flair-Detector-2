{
  "nbformat": 4,
  "nbformat_minor": 0,
  "metadata": {
    "colab": {
      "name": "Reddit Flair Detector.ipynb",
      "version": "0.3.2",
      "provenance": [],
      "collapsed_sections": [
        "ByC5RpkXvVNY",
        "WQ5D5ZVHxuCW",
        "FUPnSWuedSF2"
      ],
      "toc_visible": true,
      "include_colab_link": true
    },
    "kernelspec": {
      "name": "python3",
      "display_name": "Python 3"
    },
    "accelerator": "GPU"
  },
  "cells": [
    {
      "cell_type": "markdown",
      "metadata": {
        "id": "view-in-github",
        "colab_type": "text"
      },
      "source": [
        "<a href=\"https://colab.research.google.com/github/radonys/Reddit-Flair-Detector/blob/master/Reddit_Flair_Detector.ipynb\" target=\"_parent\"><img src=\"https://colab.research.google.com/assets/colab-badge.svg\" alt=\"Open In Colab\"/></a>"
      ]
    },
    {
      "metadata": {
        "id": "CTIVuFgiuoAn",
        "colab_type": "text"
      },
      "cell_type": "markdown",
      "source": [
        "## Reddit Flair Detector\n",
        "\n",
        "A Reddit Flair Detector using Machine Learning Algorithms"
      ]
    },
    {
      "metadata": {
        "id": "ByC5RpkXvVNY",
        "colab_type": "text"
      },
      "cell_type": "markdown",
      "source": [
        "### Install Required Modules"
      ]
    },
    {
      "metadata": {
        "id": "LZVX18CvvTUI",
        "colab_type": "code",
        "colab": {}
      },
      "cell_type": "code",
      "source": [
        "!pip install praw pandas numpy scikit-learn matplotlib scipy PyDrive\n",
        "!pip install gensim nltk"
      ],
      "execution_count": 0,
      "outputs": []
    },
    {
      "metadata": {
        "id": "WQ5D5ZVHxuCW",
        "colab_type": "text"
      },
      "cell_type": "markdown",
      "source": [
        "### Import Modules"
      ]
    },
    {
      "metadata": {
        "id": "n2Zx5yYjxxwg",
        "colab_type": "code",
        "colab": {}
      },
      "cell_type": "code",
      "source": [
        "import os\n",
        "from pydrive.auth import GoogleAuth\n",
        "from pydrive.drive import GoogleDrive\n",
        "from google.colab import auth\n",
        "from oauth2client.client import GoogleCredentials\n",
        "import praw\n",
        "import pandas as pd\n",
        "import datetime as dt\n",
        "import logging\n",
        "import numpy as np\n",
        "from numpy import random\n",
        "import gensim\n",
        "import nltk\n",
        "nltk.download('all')\n",
        "from sklearn.model_selection import train_test_split\n",
        "from sklearn.feature_extraction.text import CountVectorizer, TfidfVectorizer\n",
        "from sklearn.metrics import accuracy_score, confusion_matrix\n",
        "import matplotlib.pyplot as plt\n",
        "from nltk.corpus import stopwords\n",
        "import re\n",
        "from bs4 import BeautifulSoup\n",
        "from sklearn.pipeline import Pipeline\n",
        "from sklearn.feature_extraction.text import TfidfTransformer\n",
        "from sklearn.metrics import classification_report"
      ],
      "execution_count": 0,
      "outputs": []
    },
    {
      "metadata": {
        "id": "cE4GI4Odi3TE",
        "colab_type": "text"
      },
      "cell_type": "markdown",
      "source": [
        "### Variable Declarations"
      ]
    },
    {
      "metadata": {
        "id": "ztsmWwu5i8WZ",
        "colab_type": "code",
        "colab": {}
      },
      "cell_type": "code",
      "source": [
        "flairs = [\"AskIndia\", \"Non-Political\", \"[R]eddiquette\", \"Scheduled\", \"Photography\", \"Science/Technology\", \"Politics\", \"Business/Finance\", \"Policy/Economy\", \"Sports\", \"Food\", \"AMA\"]\n",
        "\n",
        "REPLACE_BY_SPACE_RE = re.compile('[/(){}\\[\\]\\|@,;]')\n",
        "BAD_SYMBOLS_RE = re.compile('[^0-9a-z #+_]')\n",
        "STOPWORDS = set(stopwords.words('english'))"
      ],
      "execution_count": 0,
      "outputs": []
    },
    {
      "metadata": {
        "id": "FUPnSWuedSF2",
        "colab_type": "text"
      },
      "cell_type": "markdown",
      "source": [
        "### Utility Functions"
      ]
    },
    {
      "metadata": {
        "id": "jLYT1shRdVgY",
        "colab_type": "code",
        "colab": {}
      },
      "cell_type": "code",
      "source": [
        "def get_date(created):\n",
        "    return dt.datetime.fromtimestamp(created)\n",
        "\n",
        "def string_form(value):\n",
        "    return str(value)\n",
        "\n",
        "def clean_text(text):\n",
        "   \n",
        "    text = BeautifulSoup(text, \"lxml\").text\n",
        "    text = text.lower()\n",
        "    text = REPLACE_BY_SPACE_RE.sub(' ', text)\n",
        "    text = BAD_SYMBOLS_RE.sub('', text)\n",
        "    text = ' '.join(word for word in text.split() if word not in STOPWORDS)\n",
        "    return text"
      ],
      "execution_count": 0,
      "outputs": []
    },
    {
      "metadata": {
        "id": "Wi9NhpmXyxd7",
        "colab_type": "text"
      },
      "cell_type": "markdown",
      "source": [
        "### Getting Reddit India Data\n",
        "\n",
        "Using PRAW module [1]"
      ]
    },
    {
      "metadata": {
        "id": "juhA_Mxiy59Z",
        "colab_type": "code",
        "colab": {}
      },
      "cell_type": "code",
      "source": [
        "reddit = praw.Reddit(client_id='_4Z0SOGEI31a3Q', client_secret='fzhJE6_cjPqLN6goG4R7cJ6SK3Q', user_agent='reddit-flair-detector', username='radonys', password='Yash@1234')\n",
        "\n",
        "subreddit = reddit.subreddit('india')\n",
        "topics_dict = {\"flair\":[], \"title\":[], \"score\":[], \"id\":[], \"url\":[], \"comms_num\": [], \"created\": [], \"body\":[], \"author\":[], \"comments\":[]}\n",
        "\n",
        "for flair in flairs:\n",
        "  \n",
        "  get_subreddits = subreddit.search(flair, limit=100)\n",
        "  \n",
        "  for submission in get_subreddits:\n",
        "    \n",
        "    topics_dict[\"flair\"].append(flair)\n",
        "    topics_dict[\"title\"].append(submission.title)\n",
        "    topics_dict[\"score\"].append(submission.score)\n",
        "    topics_dict[\"id\"].append(submission.id)\n",
        "    topics_dict[\"url\"].append(submission.url)\n",
        "    topics_dict[\"comms_num\"].append(submission.num_comments)\n",
        "    topics_dict[\"created\"].append(submission.created)\n",
        "    topics_dict[\"body\"].append(submission.selftext)\n",
        "    topics_dict[\"author\"].append(submission.author)\n",
        "    \n",
        "    submission.comments.replace_more(limit=None)\n",
        "    comment = ''\n",
        "    for top_level_comment in submission.comments:\n",
        "      comment = comment + ' ' + top_level_comment.body\n",
        "    topics_dict[\"comments\"].append(comment)\n",
        "    \n",
        "topics_data = pd.DataFrame(topics_dict)\n",
        "_timestamp = topics_data[\"created\"].apply(get_date)\n",
        "topics_data = topics_data.assign(timestamp = _timestamp)\n",
        "del topics_data['created']\n",
        "topics_data.to_csv('reddit-india-data.csv', index=False) "
      ],
      "execution_count": 0,
      "outputs": []
    },
    {
      "metadata": {
        "id": "Px4vwjjHZAl9",
        "colab_type": "text"
      },
      "cell_type": "markdown",
      "source": [
        "### Load Reddit India Data"
      ]
    },
    {
      "metadata": {
        "id": "3zWwOiwWZGEg",
        "colab_type": "code",
        "colab": {}
      },
      "cell_type": "code",
      "source": [
        "topics_data = pd.read_csv('reddit-india-data.csv')\n",
        "topics_data.head(10)"
      ],
      "execution_count": 0,
      "outputs": []
    },
    {
      "metadata": {
        "id": "W6STtfu_CPHf",
        "colab_type": "text"
      },
      "cell_type": "markdown",
      "source": [
        "### Text Pre-Processing"
      ]
    },
    {
      "metadata": {
        "id": "9wliPfSFCMfg",
        "colab_type": "code",
        "colab": {}
      },
      "cell_type": "code",
      "source": [
        "topics_data['title'] = topics_data['title'].apply(string_form)\n",
        "topics_data['body'] = topics_data['body'].apply(string_form)\n",
        "topics_data['comments'] = topics_data['comments'].apply(string_form)\n",
        "\n",
        "topics_data['title'] = topics_data['title'].apply(clean_text)\n",
        "topics_data['body'] = topics_data['body'].apply(clean_text)\n",
        "topics_data['comments'] = topics_data['comments'].apply(clean_text)\n",
        "\n",
        "feature_combine = topics_data[\"title\"] + topics_data[\"comments\"] + topics_data[\"url\"]\n",
        "topics_data = topics_data.assign(feature_combine = feature_combine)"
      ],
      "execution_count": 0,
      "outputs": []
    },
    {
      "metadata": {
        "id": "z9jX8iPMHtbw",
        "colab_type": "text"
      },
      "cell_type": "markdown",
      "source": [
        "### Naive Bayes Classifier"
      ]
    },
    {
      "metadata": {
        "id": "yXc_hCoxHw_M",
        "colab_type": "code",
        "colab": {}
      },
      "cell_type": "code",
      "source": [
        "def nb_classifier(X_train, X_test, y_train, y_test):\n",
        "  \n",
        "  from sklearn.naive_bayes import MultinomialNB\n",
        "\n",
        "\n",
        "  nb = Pipeline([('vect', CountVectorizer()),\n",
        "                 ('tfidf', TfidfTransformer()),\n",
        "                 ('clf', MultinomialNB()),\n",
        "                ])\n",
        "  nb.fit(X_train, y_train)\n",
        "\n",
        "  y_pred = nb.predict(X_test)\n",
        "\n",
        "  print('accuracy %s' % accuracy_score(y_pred, y_test))\n",
        "  print(classification_report(y_test, y_pred,target_names=flairs))"
      ],
      "execution_count": 0,
      "outputs": []
    },
    {
      "metadata": {
        "id": "51DbsDDwIhXR",
        "colab_type": "text"
      },
      "cell_type": "markdown",
      "source": [
        "### Linear Support Vector Machine"
      ]
    },
    {
      "metadata": {
        "id": "YUl5A1VHIhry",
        "colab_type": "code",
        "colab": {}
      },
      "cell_type": "code",
      "source": [
        "def linear_svm(X_train, X_test, y_train, y_test):\n",
        "  \n",
        "  from sklearn.linear_model import SGDClassifier\n",
        "\n",
        "  sgd = Pipeline([('vect', CountVectorizer()),\n",
        "                  ('tfidf', TfidfTransformer()),\n",
        "                  ('clf', SGDClassifier(loss='hinge', penalty='l2',alpha=1e-3, random_state=42, max_iter=5, tol=None)),\n",
        "                 ])\n",
        "  sgd.fit(X_train, y_train)\n",
        "\n",
        "  y_pred = sgd.predict(X_test)\n",
        "\n",
        "  print('accuracy %s' % accuracy_score(y_pred, y_test))\n",
        "  print(classification_report(y_test, y_pred,target_names=flairs))"
      ],
      "execution_count": 0,
      "outputs": []
    },
    {
      "metadata": {
        "id": "MNHhGkgGIwak",
        "colab_type": "text"
      },
      "cell_type": "markdown",
      "source": [
        "### Logistic Regression"
      ]
    },
    {
      "metadata": {
        "id": "ea_qJsuYIxWe",
        "colab_type": "code",
        "colab": {}
      },
      "cell_type": "code",
      "source": [
        "def logisticreg(X_train, X_test, y_train, y_test):\n",
        "\n",
        "  from sklearn.linear_model import LogisticRegression\n",
        "\n",
        "  logreg = Pipeline([('vect', CountVectorizer()),\n",
        "                  ('tfidf', TfidfTransformer()),\n",
        "                  ('clf', LogisticRegression(n_jobs=1, C=1e5)),\n",
        "                 ])\n",
        "  logreg.fit(X_train, y_train)\n",
        "\n",
        "  y_pred = logreg.predict(X_test)\n",
        "\n",
        "  print('accuracy %s' % accuracy_score(y_pred, y_test))\n",
        "  print(classification_report(y_test, y_pred,target_names=flairs))"
      ],
      "execution_count": 0,
      "outputs": []
    },
    {
      "metadata": {
        "id": "OxYj_jzhk-Bk",
        "colab_type": "text"
      },
      "cell_type": "markdown",
      "source": [
        "### Random Forest"
      ]
    },
    {
      "metadata": {
        "id": "RfW7k_a_lAV4",
        "colab_type": "code",
        "colab": {}
      },
      "cell_type": "code",
      "source": [
        "def randomforest(X_train, X_test, y_train, y_test):\n",
        "  \n",
        "  from sklearn.ensemble import RandomForestClassifier\n",
        "  \n",
        "  ranfor = Pipeline([('vect', CountVectorizer()),\n",
        "                  ('tfidf', TfidfTransformer()),\n",
        "                  ('clf', RandomForestClassifier(n_estimators = 1000, random_state = 42)),\n",
        "                 ])\n",
        "  ranfor.fit(X_train, y_train)\n",
        "\n",
        "  y_pred = ranfor.predict(X_test)\n",
        "\n",
        "  print('accuracy %s' % accuracy_score(y_pred, y_test))\n",
        "  print(classification_report(y_test, y_pred,target_names=flairs))"
      ],
      "execution_count": 0,
      "outputs": []
    },
    {
      "metadata": {
        "id": "NMKLKsblnjM5",
        "colab_type": "text"
      },
      "cell_type": "markdown",
      "source": [
        "### MLP Classifier"
      ]
    },
    {
      "metadata": {
        "id": "2xzMs1A5nls3",
        "colab_type": "code",
        "colab": {}
      },
      "cell_type": "code",
      "source": [
        "def mlpclassifier(X_train, X_test, y_train, y_test):\n",
        "  \n",
        "  from sklearn.neural_network import MLPClassifier\n",
        "  \n",
        "  mlp = Pipeline([('vect', CountVectorizer()),\n",
        "                  ('tfidf', TfidfTransformer()),\n",
        "                  ('clf', MLPClassifier(hidden_layer_sizes=(30,30,30))),\n",
        "                 ])\n",
        "  mlp.fit(X_train, y_train)\n",
        "\n",
        "  y_pred = mlp.predict(X_test)\n",
        "\n",
        "  print('accuracy %s' % accuracy_score(y_pred, y_test))\n",
        "  print(classification_report(y_test, y_pred,target_names=flairs))"
      ],
      "execution_count": 0,
      "outputs": []
    },
    {
      "metadata": {
        "id": "UeiX8Q8AMaLb",
        "colab_type": "text"
      },
      "cell_type": "markdown",
      "source": [
        "### Train Test Varied Data ML Models"
      ]
    },
    {
      "metadata": {
        "id": "wyANdHpzMe52",
        "colab_type": "code",
        "colab": {}
      },
      "cell_type": "code",
      "source": [
        "def train_test(X,y):\n",
        " \n",
        "  X_train, X_test, y_train, y_test = train_test_split(X, y, test_size=0.3, random_state = 42)\n",
        "\n",
        "  print(\"Results of Naive Bayes Classifier\")\n",
        "  nb_classifier(X_train, X_test, y_train, y_test)\n",
        "  print(\"Results of Linear Support Vector Machine\")\n",
        "  linear_svm(X_train, X_test, y_train, y_test)\n",
        "  print(\"Results of Logistic Regression\")\n",
        "  logisticreg(X_train, X_test, y_train, y_test)\n",
        "  print(\"Results of Random Forest\")\n",
        "  randomforest(X_train, X_test, y_train, y_test)\n",
        "  print(\"Results of MLP Classifier\")\n",
        "  mlpclassifier(X_train, X_test, y_train, y_test)"
      ],
      "execution_count": 0,
      "outputs": []
    },
    {
      "metadata": {
        "id": "Kbm5FWYmHanw",
        "colab_type": "text"
      },
      "cell_type": "markdown",
      "source": [
        "### Train-Test Data Split"
      ]
    },
    {
      "metadata": {
        "id": "JVQk224eHdsL",
        "colab_type": "code",
        "colab": {}
      },
      "cell_type": "code",
      "source": [
        "cat = topics_data.flair\n",
        "\n",
        "V = topics_data.feature_combine\n",
        "W = topics_data.comments\n",
        "X = topics_data.title\n",
        "Y = topics_data.body\n",
        "Z = topics_data.url\n",
        "\n",
        "print(\"Flair Detection using Title as Feature\")\n",
        "#train_test(X,cat)\n",
        "print(\"Flair Detection using Body as Feature\")\n",
        "#train_test(Y,cat)\n",
        "print(\"Flair Detection using URL as Feature\")\n",
        "#train_test(Z,cat)\n",
        "print(\"Flair Detection using Comments as Feature\")\n",
        "train_test(V,cat)"
      ],
      "execution_count": 0,
      "outputs": []
    },
    {
      "metadata": {
        "id": "m3LQb-vv7G9c",
        "colab_type": "text"
      },
      "cell_type": "markdown",
      "source": [
        "### References\n",
        "\n",
        "1) http://www.storybench.org/how-to-scrape-reddit-with-python/\n",
        "\n",
        "2) https://towardsdatascience.com/multi-class-text-classification-model-comparison-and-selection-5eb066197568"
      ]
    }
  ]
}